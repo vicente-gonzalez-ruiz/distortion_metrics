{
 "cells": [
  {
   "cell_type": "markdown",
   "metadata": {},
   "source": [
    "# Distortion Metrics used in Digital Image Compression"
   ]
  },
  {
   "cell_type": "markdown",
   "metadata": {},
   "source": [
    "## [Mean Square Error (MSE)](https://en.wikipedia.org/wiki/Mean_squared_error)\n",
    "\n",
    "In the discrete case, the MSE is defined by:\n",
    "\n",
    "\\begin{equation}\n",
    "\\text{MSE}(x,y) = \\frac{1}{N}\\sum_{i=1}^N (x_i-y_i)^2\n",
    "\\end{equation}\n",
    "\n",
    "where:\n",
    "* $x$ is the original image.\n",
    "* $y$ is the reconstructed image.\n",
    "* $N$ is the number of pixels.\n",
    "\n",
    "MSE expresses the average squared error between the two images $x$ and $y$. The maximum MSE is $d^2$, where $d$ is the [dynamic range](https://en.wikipedia.org/wiki/Dynamic_range) of $x$. When both images are identical, the (minimum) MSE is $0$. "
   ]
  },
  {
   "cell_type": "markdown",
   "metadata": {},
   "source": [
    "## [Root MSE (RMSE)](https://en.wikipedia.org/wiki/Root-mean-square_deviation)\n",
    "\n",
    "\\begin{equation}\n",
    "\\text{RMSE}(x,y) = \\sqrt{\\text{MSE}(x,y)}\n",
    "\\end{equation}\n",
    "\n",
    "where:\n",
    "* $x$ is the original image.\n",
    "* $y$ is the reconstructed image.\n",
    "\n",
    "RMSE is similar to MSE, except that the [dynamic range](https://en.wikipedia.org/wiki/Dynamic_range) of the metric adapted to the dynamic range of the images. So, the maximum MSE is $d$ and the minimum MSE is $0$."
   ]
  },
  {
   "cell_type": "markdown",
   "metadata": {},
   "source": [
    "## [Signal to Noise Ratio (PSNR)](https://en.wikipedia.org/wiki/Signal-to-noise_ratio)\n",
    "\n",
    "\\begin{equation}\n",
    "\\text{SNR}(x,y) = 10\\log_{10}\\frac{\\sigma^2}{\\text{MSE}(x,y)}\n",
    "\\end{equation}\n",
    "\n",
    "where\n",
    "$\\sigma$ is the variance of $x$.\n",
    "\n",
    "The SNR is the [ratio](https://en.wikipedia.org/wiki/Ratio) between an estimation of the [power](https://en.wikipedia.org/wiki/Energy_(signal_processing) of $x$ and a estimation power of $y$. The minimum value for the SNR is obtained when the MSE is $\\sigma^2=\\sigma^2$, i.e., the SNR cannot be smaller than $\\log_{10}1$ dB (decibels)."
   ]
  },
  {
   "cell_type": "markdown",
   "metadata": {},
   "source": [
    "## [Peak Signal to Noise Ratio (PSNR)](https://en.wikipedia.org/wiki/Peak_signal-to-noise_ratio)\n",
    "\n",
    "\\begin{equation}\n",
    "\\text{PSNR}(x,y) = 10\\log_{10}\\frac{p^2}{\\text{MSE}(x,y)}\n",
    "\\end{equation}\n",
    "\n",
    "where\n",
    "$p$ is the peak value of the signal (typically $255$ or $65535$, depending on the [number of bits per pixel](https://en.wikipedia.org/wiki/Color_depth) of $x$ and $y$).\n",
    "\n",
    "As in the SNR, the PSNR is the [ratio](https://en.wikipedia.org/wiki/Ratio) between an estimation of the maximum [power](https://en.wikipedia.org/wiki/Energy_(signal_processing) of $x$ and a estimation power of $y$. The minimum value for the PSNR is obtained when the MSE is $d^2=p^2$, i.e., the PSNR cannot be smaller than $\\log_{10}1$ dB (decibels). In image and video coding, the PSNR is more common that the SNR. A PSNR smaller than $20$ dB implies a big distortion in $y$, and values over $40$ dB, that $y$ becomes visually indistinguishable from $x$."
   ]
  },
  {
   "cell_type": "markdown",
   "metadata": {},
   "source": [
    "## [Structure Similarity Index Method (SSIM)](https://en.wikipedia.org/wiki/Structural_similarity)\n",
    "\n",
    "\\begin{equation}\n",
    "\\hbox{SSIM}(x,y) = \\frac{(2\\mu_x\\mu_y + c_1)(2\\sigma_{xy} + c_2)}{(\\mu_x^2 + \\mu_y^2 + c_1)(\\sigma_x^2 + \\sigma_y^2 + c_2)}\n",
    "\\end{equation}\n",
    "\n",
    "where:\n",
    "* $\\mu_x$ is the [average](https://en.wikipedia.org/wiki/Average) of $x$.\n",
    "* $\\mu_y$ is the average of $y$.\n",
    "* $\\sigma_x^2$ is the [variance](https://en.wikipedia.org/wiki/Variance) of $x$.\n",
    "* $\\sigma_y^2$ is the variance of $y$.\n",
    "* $\\sigma_{xy}$ us the [covariance](https://en.wikipedia.org/wiki/Covariance) of $x$ and $y$.\n",
    "* $c_1 = (k_1L)^2$ and $c_2 = (k_2L)^2$ are two constants, being $L$ the [dynamic range](https://en.wikipedia.org/wiki/Dynamic_range) of the pixel-values (typically this is $2^b-1$ where $b$ is the [number of bits per pixel](https://en.wikipedia.org/wiki/Color_depth)), $k_1 = 0.01$ and $k_2 = 0.03$.\n",
    "\n",
    "\n",
    "[Structural Similarity Index Method is a perception based model. SSIM estimates the perceived quality of images and videos.](https://m.scirp.org/papers/90911) The maximum value for the SSIM is $1$ (perfect similarity) and the minimum is $-1$ (perfect dissimilarity)."
   ]
  },
  {
   "cell_type": "markdown",
   "metadata": {},
   "source": [
    "## [Pearson Correlation Coefficient (PCC)](https://en.wikipedia.org/wiki/Pearson_correlation_coefficient)\n",
    "\n",
    "\\begin{equation}\n",
    "\\hbox{PCC}(x,y) = \\frac{\\sigma_{xy}}{\\sigma_x \\sigma_y}\n",
    "\\end{equation}\n",
    "\n",
    "where:\n",
    "* $\\sigma_x$ is the [standard deviation](https://en.wikipedia.org/wiki/Standard_deviation) of $x$.\n",
    "* $\\sigma_y$ is the standard deviation of $y$.\n",
    "* $\\sigma_{xy}$ us the [covariance](https://en.wikipedia.org/wiki/Covariance) of $x$ and $y$.\n",
    "\n",
    "The PCC is a measure of the [linear](https://en.wikipedia.org/wiki/Linearity) [correlation](https://en.wikipedia.org/wiki/Correlation_and_dependence) between $x$ and $y$. The maximum value is $1$ (total positive linear correlation), $0$ means no linear correlation, and the minimum is $−1$ (total negative linear correlation)."
   ]
  },
  {
   "cell_type": "code",
   "execution_count": null,
   "metadata": {},
   "outputs": [],
   "source": [
    "import urllib.request\n",
    "import math\n",
    "\n",
    "try:\n",
    "    import cv2\n",
    "except:\n",
    "    !pip install opencv-python --user\n",
    "try:\n",
    "    import numpy as np\n",
    "except:\n",
    "    !pip install numpy --user\n",
    "try:\n",
    "    from matplotlib import pyplot as plt\n",
    "except:\n",
    "    !pip install matplotlib --user\n",
    "%matplotlib inline\n",
    "try:\n",
    "    import skimage.metrics\n",
    "except:\n",
    "    !pip install scikit-image --user\n",
    "try:\n",
    "    import scipy.stats\n",
    "except:\n",
    "    !pip install scipy --user"
   ]
  },
  {
   "cell_type": "code",
   "execution_count": null,
   "metadata": {},
   "outputs": [],
   "source": [
    "HTTP_response = urllib.request.urlopen('http://www.hpca.ual.es/~vruiz/images/lena.png')\n",
    "arr = np.asarray(bytearray(HTTP_response.read()), dtype=np.uint8)\n",
    "BGR = cv2.imdecode(arr,-1)\n",
    "x = cv2.cvtColor(BGR, cv2.COLOR_BGR2YCrCb)[:,:,0]"
   ]
  },
  {
   "cell_type": "code",
   "execution_count": null,
   "metadata": {},
   "outputs": [],
   "source": [
    "plt.imshow(x, cmap=\"gray\")"
   ]
  },
  {
   "cell_type": "code",
   "execution_count": null,
   "metadata": {},
   "outputs": [],
   "source": [
    "cv2.imwrite(\"lena.png\", x)"
   ]
  },
  {
   "cell_type": "code",
   "execution_count": null,
   "metadata": {},
   "outputs": [],
   "source": [
    "!convert lena.png -quality 75% lena.jpg"
   ]
  },
  {
   "cell_type": "code",
   "execution_count": null,
   "metadata": {},
   "outputs": [],
   "source": [
    "y = cv2.imread(\"lena.jpg\", cv2.IMREAD_UNCHANGED)"
   ]
  },
  {
   "cell_type": "code",
   "execution_count": null,
   "metadata": {},
   "outputs": [],
   "source": [
    "plt.imshow(y, cmap=\"gray\")"
   ]
  },
  {
   "cell_type": "code",
   "execution_count": null,
   "metadata": {},
   "outputs": [],
   "source": [
    "plt.imshow(x-y+128, cmap=\"gray\")"
   ]
  },
  {
   "cell_type": "code",
   "execution_count": null,
   "metadata": {},
   "outputs": [],
   "source": [
    "MSE = skimage.metrics.mean_squared_error(x, y)\n",
    "print(f\"MSE={MSE}\")"
   ]
  },
  {
   "cell_type": "code",
   "execution_count": null,
   "metadata": {},
   "outputs": [],
   "source": [
    "RMSE = math.sqrt(MSE)\n",
    "print(f\"RMSE={RMSE}\")"
   ]
  },
  {
   "cell_type": "code",
   "execution_count": null,
   "metadata": {},
   "outputs": [],
   "source": [
    "SNR = skimage.metrics.peak_signal_noise_ratio(x, y, data_range=np.var(x))"
   ]
  },
  {
   "cell_type": "code",
   "execution_count": null,
   "metadata": {},
   "outputs": [],
   "source": [
    "PSNR = skimage.metrics.peak_signal_noise_ratio(x, y, data_range=255)\n",
    "print(f\"PSNR={PSNR}dB\")"
   ]
  },
  {
   "cell_type": "code",
   "execution_count": null,
   "metadata": {},
   "outputs": [],
   "source": [
    "SSIM = skimage.metrics.structural_similarity(x,y, data_range=y.max() - y.min())\n",
    "print(f\"SSIM={SSIM}\")"
   ]
  },
  {
   "cell_type": "code",
   "execution_count": null,
   "metadata": {},
   "outputs": [],
   "source": [
    "PCC = scipy.stats.pearsonr(x.flatten(),y.flatten())[0]\n",
    "print(f\"PCC={PCC}\")"
   ]
  },
  {
   "cell_type": "code",
   "execution_count": null,
   "metadata": {},
   "outputs": [],
   "source": []
  }
 ],
 "metadata": {
  "kernelspec": {
   "display_name": "Python 3",
   "language": "python",
   "name": "python3"
  },
  "language_info": {
   "codemirror_mode": {
    "name": "ipython",
    "version": 3
   },
   "file_extension": ".py",
   "mimetype": "text/x-python",
   "name": "python",
   "nbconvert_exporter": "python",
   "pygments_lexer": "ipython3",
   "version": "3.6.1"
  }
 },
 "nbformat": 4,
 "nbformat_minor": 2
}
